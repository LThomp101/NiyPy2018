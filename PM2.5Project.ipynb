{
 "cells": [
  {
   "cell_type": "code",
   "execution_count": 276,
   "id": "8c88e05d",
   "metadata": {},
   "outputs": [],
   "source": [
    "import numpy as np\n",
    "import pandas as pd\n",
    "from itertools import chain\n",
    "#Needs = pd.read_excel(\"PMCrosswalk_Egrid_MATS_NEEDS.xlsx\", sheet_name=\"Crosswalk-Needs\")\n",
    "RTR = pd.read_excel(\"PMCrosswalk_Egrid_MATS_NEEDS.xlsx\", sheet_name=\"Crosswalk-RTR\")\n",
    "#MATS = pd.read_excel(\"PMCrosswalk_Egrid_MATS_NEEDS.xlsx\", sheet_name=\"Crosswalk-MATS\")\n",
    "#EGRID = pd.read_excel(\"PMCrosswalk_Egrid_MATS_NEEDS.xlsx\", sheet_name=\"Crosswalk-Egrid\")\n"
   ]
  },
  {
   "cell_type": "code",
   "execution_count": 252,
   "id": "01119f4e",
   "metadata": {},
   "outputs": [],
   "source": [
    "#NEEDS \n",
    "Needs = pd.DataFrame(Needs)\n",
    "Needs = Needs\n",
    "Needs['GenID'] = Needs['EIA PID_GID']\n",
    "splitIDs = Needs['GenID'].str.split('_', n=2, expand=True)\n",
    "Needs['GenID'] = splitIDs[2]"
   ]
  },
  {
   "cell_type": "code",
   "execution_count": 249,
   "id": "1d08e4d9",
   "metadata": {
    "scrolled": true
   },
   "outputs": [],
   "source": [
    "#NEEDSCHECK\n",
    "Needs['GID/Boiler Check'] = \"\"\n",
    "Needs['GID/Boiler Check'] = np.where((Needs['Unit ID'].astype(str)) == (Needs['GenID'].astype(str)),'match', 'no match')\n",
    "Needs.to_csv('NeedsSheet.csv',index=False)"
   ]
  },
  {
   "cell_type": "code",
   "execution_count": 277,
   "id": "8cc258a6",
   "metadata": {},
   "outputs": [
    {
     "name": "stdout",
     "output_type": "stream",
     "text": [
      "     ORISPL_CODE EMISSION_UNIT_ID  2019 PM emissions, lb/mmBTU  \\\n",
      "0              3              [4]                     0.018000   \n",
      "1              3              [5]                     0.016000   \n",
      "2             26              [5]                     0.011000   \n",
      "3             51              [1]                     0.015000   \n",
      "4             56              [3]                     0.002030   \n",
      "..           ...              ...                          ...   \n",
      "437        56609              [1]                     0.001600   \n",
      "438        56611            [S01]                     0.006700   \n",
      "439        56786              [1]                     0.004200   \n",
      "440        56808              [1]                     0.000385   \n",
      "441        56808              [2]                     0.001000   \n",
      "\n",
      "    Compliance Demonstrated Via  \n",
      "0                       Testing  \n",
      "1                       Testing  \n",
      "2                       Testing  \n",
      "3                       PM CEMS  \n",
      "4                       Testing  \n",
      "..                          ...  \n",
      "437                  LEE Status  \n",
      "438                  LEE Status  \n",
      "439                  LEE Status  \n",
      "440                     PM CEMS  \n",
      "441                     PM CEMS  \n",
      "\n",
      "[442 rows x 4 columns]\n"
     ]
    }
   ],
   "source": [
    "#RTR\n",
    "#RTR = pd.DataFrame(RTR)\n",
    "RTR = RTR.astype({\"EMISSION_UNIT_ID\": str}, errors='raise')\n",
    "RTR.dtypes\n",
    "#RTR['EMISSION_UNIT_ID'] = RTR['EMISSION_UNIT_ID'].astype(str)\n",
    "RTR['EMISSION_UNIT_ID'] = RTR['EMISSION_UNIT_ID'].str.split(',')\n",
    "RTR.explode('EMISSION_UNIT_ID')   \n",
    "print(RTR)\n",
    "RTR.to_csv('RTRSheet.csv',index=False)"
   ]
  },
  {
   "cell_type": "code",
   "execution_count": 244,
   "id": "563d90da",
   "metadata": {},
   "outputs": [],
   "source": [
    "RTR.to_csv('RTRTest.csv', index=False)"
   ]
  },
  {
   "cell_type": "code",
   "execution_count": 257,
   "id": "db2bf6c8",
   "metadata": {},
   "outputs": [
    {
     "name": "stdout",
     "output_type": "stream",
     "text": [
      "     ORISPL_CODE EMISSION_UNIT_ID  2019 PM emissions, lb/mmBTU  \\\n",
      "0              3                4                     0.018000   \n",
      "1              3                5                     0.016000   \n",
      "2             26                5                     0.011000   \n",
      "3             51                1                     0.015000   \n",
      "4             56                3                     0.002030   \n",
      "..           ...              ...                          ...   \n",
      "437        56609                1                     0.001600   \n",
      "438        56611              S01                     0.006700   \n",
      "439        56786                1                     0.004200   \n",
      "440        56808                1                     0.000385   \n",
      "441        56808                2                     0.001000   \n",
      "\n",
      "    Compliance Demonstrated Via  \n",
      "0                       Testing  \n",
      "1                       Testing  \n",
      "2                       Testing  \n",
      "3                       PM CEMS  \n",
      "4                       Testing  \n",
      "..                          ...  \n",
      "437                  LEE Status  \n",
      "438                  LEE Status  \n",
      "439                  LEE Status  \n",
      "440                     PM CEMS  \n",
      "441                     PM CEMS  \n",
      "\n",
      "[442 rows x 4 columns]\n"
     ]
    }
   ],
   "source": [
    "print(RTR)"
   ]
  }
 ],
 "metadata": {
  "kernelspec": {
   "display_name": "Python 3",
   "language": "python",
   "name": "python3"
  },
  "language_info": {
   "codemirror_mode": {
    "name": "ipython",
    "version": 3
   },
   "file_extension": ".py",
   "mimetype": "text/x-python",
   "name": "python",
   "nbconvert_exporter": "python",
   "pygments_lexer": "ipython3",
   "version": "3.8.8"
  }
 },
 "nbformat": 4,
 "nbformat_minor": 5
}
